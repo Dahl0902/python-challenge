{
 "cells": [
  {
   "cell_type": "code",
   "execution_count": 1,
   "metadata": {},
   "outputs": [],
   "source": [
    "import os  \n",
    "import csv\n",
    "\n",
    "csvpath = os.path.join('..', 'Resources', 'election_data.csv')\n",
    "\n",
    "votes = 0\n",
    "kvotes = 0\n",
    "cvotes = 0\n",
    "lvotes = 0\n",
    "ovotes = 0\n",
    "errors = 0\n",
    "candidate = []\n"
   ]
  },
  {
   "cell_type": "code",
   "execution_count": 2,
   "metadata": {},
   "outputs": [],
   "source": [
    "with open(csvpath, newline = '') as csvfile:\n",
    "    csvreader = csv.reader(csvfile, delimiter = \",\")\n",
    "    next(csvreader)\n",
    "    for row in csvreader:\n",
    "        votes = votes + 1\n",
    "        candidate.append(row[2])\n",
    "    for person in candidate:\n",
    "        if person == \"Khan\":\n",
    "            kvotes += 1\n",
    "        elif person == \"Correy\":\n",
    "            cvotes += 1\n",
    "        elif person == \"Li\":\n",
    "            lvotes += 1\n",
    "        elif person == \"O'Tooley\":\n",
    "            ovotes += 1\n",
    "        else:\n",
    "            errors += 1"
   ]
  },
  {
   "cell_type": "code",
   "execution_count": 3,
   "metadata": {},
   "outputs": [
    {
     "name": "stdout",
     "output_type": "stream",
     "text": [
      "2218231\n"
     ]
    }
   ],
   "source": [
    "print(kvotes)"
   ]
  },
  {
   "cell_type": "code",
   "execution_count": 4,
   "metadata": {},
   "outputs": [
    {
     "name": "stdout",
     "output_type": "stream",
     "text": [
      "63.00001050837531\n"
     ]
    }
   ],
   "source": [
    "kpercent = (kvotes / votes) * 100\n",
    "cpercent = (cvotes / votes) * 100\n",
    "lpercent = (lvotes / votes) * 100\n",
    "opercent = (ovotes / votes) * 100\n",
    "\n",
    "print(kpercent)\n",
    "    "
   ]
  },
  {
   "cell_type": "code",
   "execution_count": 5,
   "metadata": {},
   "outputs": [
    {
     "name": "stdout",
     "output_type": "stream",
     "text": [
      "3.0\n"
     ]
    }
   ],
   "source": [
    "kpercent = round(kpercent, 3)\n",
    "cpercent = round(cpercent, 3)\n",
    "lpercent = round(lpercent, 3)\n",
    "opercent = round(opercent, 3)\n",
    "\n",
    "print(opercent)"
   ]
  },
  {
   "cell_type": "code",
   "execution_count": 6,
   "metadata": {},
   "outputs": [
    {
     "name": "stdout",
     "output_type": "stream",
     "text": [
      "2218231\n"
     ]
    }
   ],
   "source": [
    "winner = 0\n",
    "totalvotes = [kvotes, cvotes, lvotes, ovotes]\n",
    "for i in totalvotes:\n",
    "    for j in totalvotes:\n",
    "        if i > j and i > winner:\n",
    "            winner = i\n",
    "print(winner)"
   ]
  },
  {
   "cell_type": "code",
   "execution_count": 7,
   "metadata": {},
   "outputs": [
    {
     "name": "stdout",
     "output_type": "stream",
     "text": [
      "Khan\n"
     ]
    }
   ],
   "source": [
    "dcan = {kvotes: \"Khan\",\n",
    "    cvotes: \"Correy\",\n",
    "    lvotes: \"Li\",\n",
    "    ovotes: \"O'Tooley\"}\n",
    "\n",
    "print(dcan[winner])"
   ]
  },
  {
   "cell_type": "code",
   "execution_count": 16,
   "metadata": {
    "scrolled": false
   },
   "outputs": [
    {
     "name": "stdout",
     "output_type": "stream",
     "text": [
      "Election Results\n",
      "------------------------------\n",
      "Total Votes: 3521001\n",
      "------------------------------\n",
      "Khan: 63.0 (2218231)\n",
      "Correy: 20.0 (704200)\n",
      "Li: 14.0 (492940)\n",
      "O'Tooley: 3.0 (105630)\n",
      "------------------------------\n",
      "Winner: Khan\n",
      "------------------------------\n"
     ]
    }
   ],
   "source": [
    "print('Election Results')\n",
    "print('------------------------------')\n",
    "print('Total Votes: ' + str(votes))\n",
    "print('------------------------------')\n",
    "print('Khan: ' + str(kpercent) + ' (' + str(kvotes) + ')')\n",
    "print('Correy: ' + str(cpercent) + ' (' + str(cvotes) + ')')\n",
    "print('Li: ' + str(lpercent) + ' (' + str(lvotes) + ')')\n",
    "print(\"O'Tooley: \" + str(opercent) + ' (' + str(ovotes) + ')')\n",
    "print('------------------------------')\n",
    "print('Winner: ' + dcan[winner])\n",
    "print('------------------------------')\n"
   ]
  },
  {
   "cell_type": "code",
   "execution_count": null,
   "metadata": {},
   "outputs": [],
   "source": []
  },
  {
   "cell_type": "code",
   "execution_count": null,
   "metadata": {},
   "outputs": [],
   "source": []
  }
 ],
 "metadata": {
  "kernelspec": {
   "display_name": "Python 3",
   "language": "python",
   "name": "python3"
  },
  "language_info": {
   "codemirror_mode": {
    "name": "ipython",
    "version": 3
   },
   "file_extension": ".py",
   "mimetype": "text/x-python",
   "name": "python",
   "nbconvert_exporter": "python",
   "pygments_lexer": "ipython3",
   "version": "3.7.4"
  }
 },
 "nbformat": 4,
 "nbformat_minor": 2
}
